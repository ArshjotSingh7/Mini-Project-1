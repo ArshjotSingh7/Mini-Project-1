{
  "nbformat": 4,
  "nbformat_minor": 0,
  "metadata": {
    "colab": {
      "provenance": [],
      "authorship_tag": "ABX9TyPdsNVCsTUZx7mHqs1+8Jlm",
      "include_colab_link": true
    },
    "kernelspec": {
      "name": "python3",
      "display_name": "Python 3"
    },
    "language_info": {
      "name": "python"
    }
  },
  "cells": [
    {
      "cell_type": "markdown",
      "metadata": {
        "id": "view-in-github",
        "colab_type": "text"
      },
      "source": [
        "<a href=\"https://colab.research.google.com/github/ArshjotSingh7/Mini-Project-1/blob/main/Mini_Project_1.ipynb\" target=\"_parent\"><img src=\"https://colab.research.google.com/assets/colab-badge.svg\" alt=\"Open In Colab\"/></a>"
      ]
    },
    {
      "cell_type": "code",
      "execution_count": null,
      "metadata": {
        "colab": {
          "base_uri": "https://localhost:8080/"
        },
        "id": "NJG_9CW_6HJc",
        "outputId": "d594fd89-9096-4472-d4aa-61c1b953f070"
      },
      "outputs": [
        {
          "output_type": "stream",
          "name": "stdout",
          "text": [
            "(2, -4, 11, 3, -12)\n",
            "(-4, -3, -8, 6, 9)\n",
            "(-2, -6, 7, -8, 9)\n",
            "(2, 6, 9, -12, -5)\n",
            "(-7, -2, -4, 11, 2)\n",
            "(11, -7, 1, 3, -8)\n",
            "(-9, -7, 1, 9, 6)\n",
            "(9, 1, -12, -4, 6)\n",
            "(6, -12, 1, -6, 11)\n",
            "(-6, 1, 2, -3, 6)\n",
            "(-8, 2, 11, -3, -2)\n",
            "(1, 9, 7, -9, -8)\n",
            "(-3, 1, -7, 11, -2)\n",
            "(11, -7, -12, 7, 1)\n",
            "(-3, -5, 1, 11, -4)\n",
            "(-4, -7, 11, -3, 3)\n",
            "(-12, 1, -2, 11, 2)\n",
            "(-2, -12, 9, 2, 3)\n",
            "(3, -5, -2, -7, 11)\n",
            "(-8, 7, -5, -3, 9)\n",
            "(2, -4, 7, -2, -3)\n",
            "(-4, 9, -9, -7, 11)\n",
            "(11, -5, -2, 3, -7)\n",
            "(6, 11, -8, 3, -12)\n",
            "\n",
            "Total Sets 24\n"
          ]
        },
        {
          "output_type": "stream",
          "name": "stderr",
          "text": [
            "<ipython-input-1-6ffc6b93f9e6>:7: DeprecationWarning: Sampling from a set deprecated\n",
            "since Python 3.9 and will be removed in a subsequent version.\n",
            "  a = r.sample(S,SSize)\n"
          ]
        }
      ],
      "source": [
        "import random as r\n",
        "S = set([-12, -3, -6, 7, 2, -2, 6, 3, 9, -7, -5, -8, 1, 11, -9, -4])\n",
        "SSize = 5\n",
        "L = set()\n",
        "Iterations = 1000\n",
        "for i in range(Iterations):\n",
        "  a = r.sample(S,SSize)\n",
        "  if sum(a)==0:\n",
        "    L.add(tuple(a))\n",
        "\n",
        "for r in L:\n",
        "  print(r)\n",
        "\n",
        "print(\"\\nTotal Sets\",len(L))"
      ]
    },
    {
      "cell_type": "code",
      "source": [
        "import random as r\n",
        "\n",
        "\n",
        "Set         = set([-12, -3, -6, 7, 2, -2, 6, 3, 9, -7, -5, -8, 1, 11, -9, -4])\n",
        "SetLB       = 3\n",
        "SetUB       = 6\n",
        "List = set()\n",
        "Iterations  = 1000\n",
        "\n",
        "\n",
        "for i in range(Iterations):\n",
        "\n",
        "    SetSize = r.randint(SetLB,SetUB)\n",
        "\n",
        "\n",
        "    p = r.sample(Set,SetSize)\n",
        "    p.sort()\n",
        "\n",
        "    if sum(p) == 0:\n",
        "        List.add(tuple(p))\n",
        "\n",
        "\n",
        "for r in List:\n",
        "\tprint (r)\n",
        "\n",
        "\n",
        "print (\"\\nTotal Sets: \", len(List))"
      ],
      "metadata": {
        "id": "b1Pw6ZGD6XKH",
        "outputId": "f525bee5-4d81-45c0-e9ba-4f4bd4a8e6b0",
        "colab": {
          "base_uri": "https://localhost:8080/"
        }
      },
      "execution_count": null,
      "outputs": [
        {
          "output_type": "stream",
          "name": "stdout",
          "text": [
            "(-8, -4, -3, -2, 6, 11)\n",
            "(-9, 2, 7)\n",
            "(-8, -6, -2, 1, 6, 9)\n",
            "(-8, -5, 6, 7)\n",
            "(-8, -4, -3, 2, 6, 7)\n",
            "(-9, -3, 3, 9)\n",
            "(-9, -5, -4, -2, 9, 11)\n",
            "(-5, 2, 3)\n",
            "(-9, -8, 1, 2, 3, 11)\n",
            "(-9, -2, 2, 3, 6)\n",
            "(-9, -5, 2, 3, 9)\n",
            "(-6, -4, 3, 7)\n",
            "(-9, -5, 3, 11)\n",
            "(-9, -7, -6, 2, 9, 11)\n",
            "(-7, -2, 9)\n",
            "(-7, -5, 1, 11)\n",
            "(-8, 1, 7)\n",
            "(-7, -6, -2, 1, 3, 11)\n",
            "(-7, -4, 11)\n",
            "(-9, -6, 6, 9)\n",
            "(-7, -5, 1, 2, 9)\n",
            "(-12, -5, -3, 9, 11)\n",
            "(-9, -8, -6, 3, 9, 11)\n",
            "(-8, -6, -5, 1, 7, 11)\n",
            "(-3, 1, 2)\n",
            "(-8, -7, -2, 6, 11)\n",
            "(-12, -9, 3, 7, 11)\n",
            "(-8, -7, -2, 1, 7, 9)\n",
            "(-5, -4, -2, 11)\n",
            "(-8, -3, 11)\n",
            "(-7, -2, 3, 6)\n",
            "(-8, -6, -4, 1, 6, 11)\n",
            "\n",
            "Total Sets:  32\n"
          ]
        },
        {
          "output_type": "stream",
          "name": "stderr",
          "text": [
            "<ipython-input-2-bb8dcd5af5e2>:16: DeprecationWarning: Sampling from a set deprecated\n",
            "since Python 3.9 and will be removed in a subsequent version.\n",
            "  p = r.sample(Set,SetSize)\n"
          ]
        }
      ]
    }
  ]
}